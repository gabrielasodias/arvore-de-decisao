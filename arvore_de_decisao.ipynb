{
  "nbformat": 4,
  "nbformat_minor": 0,
  "metadata": {
    "colab": {
      "provenance": [],
      "authorship_tag": "ABX9TyODrJiMJRufwwVHfmAtAF4n",
      "include_colab_link": true
    },
    "kernelspec": {
      "name": "python3",
      "display_name": "Python 3"
    },
    "language_info": {
      "name": "python"
    }
  },
  "cells": [
    {
      "cell_type": "markdown",
      "metadata": {
        "id": "view-in-github",
        "colab_type": "text"
      },
      "source": [
        "<a href=\"https://colab.research.google.com/github/gabrielasodias/arvore-de-decisao/blob/main/arvore_de_decisao.ipynb\" target=\"_parent\"><img src=\"https://colab.research.google.com/assets/colab-badge.svg\" alt=\"Open In Colab\"/></a>"
      ]
    },
    {
      "cell_type": "markdown",
      "source": [],
      "metadata": {
        "id": "8zVJvfhuMoli"
      }
    },
    {
      "cell_type": "markdown",
      "source": [
        "Um centro de pesquisa de fauna deseja implementar um modelo de machine learning para classificar aves em três categorias: Ave Carnívora, Ave Herbívora e Ave Onívora.\n",
        "\n",
        "Este centro possui um conjunto de aves para classificar, e para isso, eles escolheram as seguintes características para coletar dados inicialmente:\n",
        "\n",
        ".  Envergadura das asas: Representado por um valor numérico.\n",
        "\n",
        ".  Peso: Representado por um valor numérico.\n",
        "\n",
        ".  Comprimento do bico: Representado por um valor numérico.\n",
        "\n",
        "Com base nessas características, eles coletaram dados de treinamento para construir o modelo de Árvore de Decisão.\n",
        "\n",
        "Dados de Treinamento:\n",
        "Ave 1: Envergadura das asas 120, Peso 3.5, Comprimento do bico 7 - Categoria: Ave Carnívora\n",
        "Ave 2: Envergadura das asas 85, Peso 1.2, Comprimento do bico 4 - Categoria: Ave Herbívora\n",
        "Ave 3: Envergadura das asas 95, Peso 2.1, Comprimento do bico 6 - Categoria: Ave Onívora\n",
        "\n",
        "Com base nesses dados de treinamento, desenvolva um modelo de Árvore de Decisão que será treinado para aprender a realizar a classificação correta das aves com base nas características fornecidas.\n",
        "\n",
        "Após o treinamento do modelo, realize o teste de caracterização com uma nova ave (Abaixo mencionada) e apresente o resultado de seu programa:\n",
        "\n",
        "Ave Teste: Envergadura das asas 90, Peso 1.5, Comprimento do bico 5"
      ],
      "metadata": {
        "id": "sV5EOILcMdmf"
      }
    },
    {
      "cell_type": "code",
      "execution_count": null,
      "metadata": {
        "colab": {
          "base_uri": "https://localhost:8080/"
        },
        "id": "ae86Udp77qRZ",
        "outputId": "86ad2ae1-7aed-480a-8af4-94b54bd36d26"
      },
      "outputs": [
        {
          "output_type": "stream",
          "name": "stdout",
          "text": [
            "Categoria da ave de teste: Ave Herbívora\n"
          ]
        }
      ],
      "source": [
        "from sklearn.tree import DecisionTreeClassifier\n",
        "\n",
        "# Dados de treinamento\n",
        "treino = [\n",
        "    [120, 3.5, 7],  # Ave Carnívora\n",
        "    [85, 1.2, 4],   # Ave Herbívora\n",
        "    [95, 2.1, 6]    # Ave Onívora\n",
        "]\n",
        "resposta = ['Ave Carnívora', 'Ave Herbívora', 'Ave Onívora']\n",
        "\n",
        "# Criação do modelo de Árvore de Decisão\n",
        "modelo = DecisionTreeClassifier()\n",
        "\n",
        "# Treinamento do modelo\n",
        "modelo.fit(treino, resposta)\n",
        "\n",
        "# Dados de teste\n",
        "teste = [\n",
        "    [90, 1.5, 5]  # Ave de teste\n",
        "]\n",
        "\n",
        "# Classificação da ave de teste\n",
        "classificacao = modelo.predict(teste)\n",
        "\n",
        "# Exibição da categoria atribuída à ave de teste\n",
        "print('Categoria da ave de teste:', classificacao[0])"
      ]
    }
  ]
}